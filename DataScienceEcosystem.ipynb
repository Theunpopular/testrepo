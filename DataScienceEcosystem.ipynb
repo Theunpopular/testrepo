{
 "cells": [
  {
   "cell_type": "markdown",
   "id": "6733a33e-941b-4dc7-9950-fb4eb390b750",
   "metadata": {},
   "source": [
    "## Data Science Tools and Ecosystem"
   ]
  },
  {
   "cell_type": "markdown",
   "id": "250c7128-21c1-48b3-9708-14eeebf10cd0",
   "metadata": {},
   "source": [
    "In this notebook, Data Science Tools and Ecosystem are summarized."
   ]
  },
  {
   "cell_type": "markdown",
   "id": "7262f053-74e2-49c5-898f-3a4a5128fa84",
   "metadata": {},
   "source": [
    "**Objectives**\n",
    "- List of popular languages in data scinece.\n",
    "- Commonly used libraries.\n",
    "- Example of Arithmatice expression in Pyton."
   ]
  },
  {
   "cell_type": "markdown",
   "id": "44e16929-bb4e-47d0-bb9e-f5f9e86b45e1",
   "metadata": {},
   "source": [
    "Some of the popular languages that Data Scientists use are:"
   ]
  },
  {
   "cell_type": "markdown",
   "id": "fa0bdc31-5592-4c18-9f9d-7fffd1eaa511",
   "metadata": {},
   "source": [
    "1. Python\n",
    "2. R\n",
    "3. Java"
   ]
  },
  {
   "cell_type": "markdown",
   "id": "dba141da-d4cf-405b-92ec-a63aa3935319",
   "metadata": {},
   "source": [
    "Some of the commonly used libraries used by Data Scientists include:"
   ]
  },
  {
   "cell_type": "markdown",
   "id": "193f434a-5370-462e-9e38-a4209c2e0d3c",
   "metadata": {},
   "source": [
    "1. NumPy\n",
    "2. Pandas\n",
    "3. Matplotlib"
   ]
  },
  {
   "cell_type": "markdown",
   "id": "dd56406d-5b09-4066-a220-799e74953e41",
   "metadata": {},
   "source": [
    "| Data Science Tools |\n",
    "|-------|\n",
    "| JupyterNotebook |\n",
    "| RStudio |\n",
    "| VS Code |"
   ]
  },
  {
   "cell_type": "markdown",
   "id": "c5091809-210c-46e3-9be9-112cce76b1ef",
   "metadata": {},
   "source": [
    "Below are a few examples of evaluating arithmetic expressions in Python"
   ]
  },
  {
   "cell_type": "markdown",
   "id": "0f00c598-ef50-426d-bdfa-76668b3794ed",
   "metadata": {
    "tags": []
   },
   "source": [
    "(3*4)+5\n"
   ]
  },
  {
   "cell_type": "markdown",
   "id": "b7fabcb5-826b-4140-b459-cc92d4e714e3",
   "metadata": {},
   "source": [
    "This a simple arithmetic expression to mutiply then add integers"
   ]
  },
  {
   "cell_type": "markdown",
   "id": "cac895d2-bf67-4c26-b89c-75eebb913b7d",
   "metadata": {},
   "source": [
    "17"
   ]
  },
  {
   "cell_type": "code",
   "execution_count": 7,
   "id": "d55d3559-fb74-43f2-8cdc-8ade6b0ce814",
   "metadata": {
    "tags": []
   },
   "outputs": [
    {
     "data": {
      "text/plain": [
       "3.3333333333333335"
      ]
     },
     "execution_count": 7,
     "metadata": {},
     "output_type": "execute_result"
    }
   ],
   "source": [
    "#Convert 200 minutes into hours\n",
    "200/60 \n",
    "#This will convert 200 minutes to hours by diving by 60"
   ]
  },
  {
   "cell_type": "markdown",
   "id": "d8d05646-b290-43f3-9df7-8283c7d8fe10",
   "metadata": {
    "tags": []
   },
   "source": [
    "## Author"
   ]
  },
  {
   "cell_type": "markdown",
   "id": "ad437ffc-231c-49ae-b8d1-4e7ad8956239",
   "metadata": {},
   "source": [
    "Tushar Bhiwaji Gahane"
   ]
  },
  {
   "cell_type": "code",
   "execution_count": null,
   "id": "f5244253-e70a-4c11-896a-7ecc4c3dfdf9",
   "metadata": {},
   "outputs": [],
   "source": []
  }
 ],
 "metadata": {
  "kernelspec": {
   "display_name": "Python",
   "language": "python",
   "name": "conda-env-python-py"
  },
  "language_info": {
   "codemirror_mode": {
    "name": "ipython",
    "version": 3
   },
   "file_extension": ".py",
   "mimetype": "text/x-python",
   "name": "python",
   "nbconvert_exporter": "python",
   "pygments_lexer": "ipython3",
   "version": "3.7.12"
  }
 },
 "nbformat": 4,
 "nbformat_minor": 5
}
